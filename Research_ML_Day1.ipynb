{
  "nbformat": 4,
  "nbformat_minor": 0,
  "metadata": {
    "colab": {
      "provenance": [],
      "authorship_tag": "ABX9TyPOGf+xlRyx4EnmpvmrrdML",
      "include_colab_link": true
    },
    "kernelspec": {
      "name": "python3",
      "display_name": "Python 3"
    },
    "language_info": {
      "name": "python"
    }
  },
  "cells": [
    {
      "cell_type": "markdown",
      "metadata": {
        "id": "view-in-github",
        "colab_type": "text"
      },
      "source": [
        "<a href=\"https://colab.research.google.com/github/Jatin-Miglani/Learn-ML/blob/main/Research_ML_Day1.ipynb\" target=\"_parent\"><img src=\"https://colab.research.google.com/assets/colab-badge.svg\" alt=\"Open In Colab\"/></a>"
      ]
    },
    {
      "cell_type": "code",
      "execution_count": null,
      "metadata": {
        "colab": {
          "base_uri": "https://localhost:8080/"
        },
        "id": "s7dQDym9m0qC",
        "outputId": "aeacd4c8-7564-4e2c-ed73-2fecbf4609c0"
      },
      "outputs": [
        {
          "output_type": "stream",
          "name": "stdout",
          "text": [
            "Hello World!\n"
          ]
        }
      ],
      "source": [
        "print(\"Hello World!\") #shift+enter"
      ]
    },
    {
      "cell_type": "code",
      "source": [
        "var1=25\n",
        "print(var1)"
      ],
      "metadata": {
        "colab": {
          "base_uri": "https://localhost:8080/"
        },
        "id": "j7cPJHt9or_e",
        "outputId": "a716996b-6672-47bc-e40c-07cb52427153"
      },
      "execution_count": null,
      "outputs": [
        {
          "output_type": "stream",
          "name": "stdout",
          "text": [
            "25\n"
          ]
        }
      ]
    },
    {
      "cell_type": "code",
      "source": [
        "90+129"
      ],
      "metadata": {
        "id": "he1VCU6jpfIR",
        "colab": {
          "base_uri": "https://localhost:8080/"
        },
        "outputId": "eab768b8-c84c-457d-8f80-1d5ad1cc5fcc"
      },
      "execution_count": null,
      "outputs": [
        {
          "output_type": "execute_result",
          "data": {
            "text/plain": [
              "219"
            ]
          },
          "metadata": {},
          "execution_count": 3
        }
      ]
    },
    {
      "cell_type": "code",
      "source": [
        "var1=30 #int\n",
        "var2=78.9 #float\n",
        "var3=23 #int\n",
        "var4=True #boolean\n",
        "var5=\"amritsar\" #string we don't have char in python\n",
        "var6=45+7j #complex\n",
        "#primitive data types in python.\n",
        "print(var1,\" \",var2,\" \",var3,\" \",var4,\" \",var5,\" \",var6)"
      ],
      "metadata": {
        "colab": {
          "base_uri": "https://localhost:8080/"
        },
        "id": "0EC2hq_Tphi7",
        "outputId": "a6739fe4-5a18-4334-da93-5f0aa917d0f7"
      },
      "execution_count": null,
      "outputs": [
        {
          "output_type": "stream",
          "name": "stdout",
          "text": [
            "30   78.9   23   True   amritsar   (45+7j)\n"
          ]
        }
      ]
    },
    {
      "cell_type": "code",
      "source": [
        "#if you are adding multiple code in a single line then use semicolon.\n",
        "print(\"Jatin\");print(\"Miglani\")"
      ],
      "metadata": {
        "colab": {
          "base_uri": "https://localhost:8080/"
        },
        "id": "wR5dawaiqSjT",
        "outputId": "fa8c36c0-0f75-4d6f-8737-c9e820abaca2"
      },
      "execution_count": null,
      "outputs": [
        {
          "output_type": "stream",
          "name": "stdout",
          "text": [
            "Jatin\n",
            "Miglani\n"
          ]
        }
      ]
    },
    {
      "cell_type": "code",
      "source": [
        "print(type(var1))"
      ],
      "metadata": {
        "colab": {
          "base_uri": "https://localhost:8080/"
        },
        "id": "cNuweEdHqvWP",
        "outputId": "4ad7742d-4cfe-4e73-8d5a-e10195b259ef"
      },
      "execution_count": null,
      "outputs": [
        {
          "output_type": "stream",
          "name": "stdout",
          "text": [
            "<class 'int'>\n"
          ]
        }
      ]
    },
    {
      "cell_type": "code",
      "source": [
        "mystr=\"We are doing ML using python.\"\n",
        "print(mystr)"
      ],
      "metadata": {
        "colab": {
          "base_uri": "https://localhost:8080/"
        },
        "id": "nSe51ggJqzZV",
        "outputId": "683be1cc-9139-4721-d9d8-7510cc8fced0"
      },
      "execution_count": null,
      "outputs": [
        {
          "output_type": "stream",
          "name": "stdout",
          "text": [
            "We are doing ML using python.\n"
          ]
        }
      ]
    },
    {
      "cell_type": "code",
      "source": [
        "#slicing means to get some part of the data and hence we need index value which always start from zero and use len to print length of the string.\n",
        "len(mystr)"
      ],
      "metadata": {
        "colab": {
          "base_uri": "https://localhost:8080/"
        },
        "id": "dIgbWCyTrlk0",
        "outputId": "cbf17d18-0c5d-4f68-c7a5-405bad7d5dac"
      },
      "execution_count": null,
      "outputs": [
        {
          "output_type": "execute_result",
          "data": {
            "text/plain": [
              "29"
            ]
          },
          "metadata": {},
          "execution_count": 8
        }
      ]
    },
    {
      "cell_type": "code",
      "source": [
        "mystr[3]"
      ],
      "metadata": {
        "colab": {
          "base_uri": "https://localhost:8080/",
          "height": 36
        },
        "id": "Ewe29Bxir0FR",
        "outputId": "6191c0b9-0e69-4119-b6be-822c98ba0873"
      },
      "execution_count": null,
      "outputs": [
        {
          "output_type": "execute_result",
          "data": {
            "text/plain": [
              "'a'"
            ],
            "application/vnd.google.colaboratory.intrinsic+json": {
              "type": "string"
            }
          },
          "metadata": {},
          "execution_count": 9
        }
      ]
    },
    {
      "cell_type": "code",
      "source": [
        "mystr[10:20] #print from 10 to 19"
      ],
      "metadata": {
        "colab": {
          "base_uri": "https://localhost:8080/",
          "height": 36
        },
        "id": "qdCSDDDhr2fH",
        "outputId": "020e6f6a-d8e8-4f09-b53b-09e3cf2265d6"
      },
      "execution_count": null,
      "outputs": [
        {
          "output_type": "execute_result",
          "data": {
            "text/plain": [
              "'ng ML usin'"
            ],
            "application/vnd.google.colaboratory.intrinsic+json": {
              "type": "string"
            }
          },
          "metadata": {},
          "execution_count": 10
        }
      ]
    },
    {
      "cell_type": "code",
      "source": [
        "mystr[10:30]"
      ],
      "metadata": {
        "colab": {
          "base_uri": "https://localhost:8080/",
          "height": 36
        },
        "id": "GfvsmrLAr9RK",
        "outputId": "736352bf-406f-4167-c1f0-e7703c1e2875"
      },
      "execution_count": null,
      "outputs": [
        {
          "output_type": "execute_result",
          "data": {
            "text/plain": [
              "'ng ML using python.'"
            ],
            "application/vnd.google.colaboratory.intrinsic+json": {
              "type": "string"
            }
          },
          "metadata": {},
          "execution_count": 11
        }
      ]
    },
    {
      "cell_type": "code",
      "source": [
        "mystr[10:30:3] #print every third element from it."
      ],
      "metadata": {
        "colab": {
          "base_uri": "https://localhost:8080/",
          "height": 36
        },
        "id": "mhCUPkOYsAL8",
        "outputId": "ab86f998-7a4a-4741-8612-e989507acf8f"
      },
      "execution_count": null,
      "outputs": [
        {
          "output_type": "execute_result",
          "data": {
            "text/plain": [
              "'nMunph.'"
            ],
            "application/vnd.google.colaboratory.intrinsic+json": {
              "type": "string"
            }
          },
          "metadata": {},
          "execution_count": 12
        }
      ]
    },
    {
      "cell_type": "code",
      "source": [
        "mystr[-10]"
      ],
      "metadata": {
        "colab": {
          "base_uri": "https://localhost:8080/",
          "height": 36
        },
        "id": "MXmzqIE6sDsx",
        "outputId": "74ff13e9-f778-441c-95a9-287b0282a979"
      },
      "execution_count": null,
      "outputs": [
        {
          "output_type": "execute_result",
          "data": {
            "text/plain": [
              "'n'"
            ],
            "application/vnd.google.colaboratory.intrinsic+json": {
              "type": "string"
            }
          },
          "metadata": {},
          "execution_count": 13
        }
      ]
    },
    {
      "cell_type": "code",
      "source": [
        "##Core datatype where you can store a group of data"
      ],
      "metadata": {
        "id": "0Cex-_WosTnR"
      },
      "execution_count": null,
      "outputs": []
    },
    {
      "cell_type": "code",
      "source": [
        "#List Tuple Dictionary Sets these four can store heterogeneous data and Arrays can store homogeneous data."
      ],
      "metadata": {
        "id": "-g9aSqD-sWxZ"
      },
      "execution_count": null,
      "outputs": []
    },
    {
      "cell_type": "code",
      "source": [],
      "metadata": {
        "id": "LDmFsQR4sufd"
      },
      "execution_count": null,
      "outputs": []
    },
    {
      "cell_type": "markdown",
      "source": [
        "List\n",
        "It is a group of heterogeneous data which is mutable(that can be modified(add,replace,data)).\n",
        "We make this by using squrae brackets and that is a list in python."
      ],
      "metadata": {
        "id": "IXfPKPT-svw4"
      }
    },
    {
      "cell_type": "code",
      "source": [
        "mylst=[20,20.5,\"Jatin\",45+7j,[\"a\",1,2.3]]\n",
        "print(mylst)"
      ],
      "metadata": {
        "colab": {
          "base_uri": "https://localhost:8080/"
        },
        "id": "6lT05eU3sxBr",
        "outputId": "a61bada0-5999-4f65-d304-929ef095311e"
      },
      "execution_count": null,
      "outputs": [
        {
          "output_type": "stream",
          "name": "stdout",
          "text": [
            "[20, 20.5, 'Jatin', (45+7j), ['a', 1, 2.3]]\n"
          ]
        }
      ]
    },
    {
      "cell_type": "code",
      "source": [
        "len(mylst)"
      ],
      "metadata": {
        "colab": {
          "base_uri": "https://localhost:8080/"
        },
        "id": "_aPqqfp3tO_y",
        "outputId": "b8aff7b2-1792-4031-c4f8-8b83e4c488b3"
      },
      "execution_count": null,
      "outputs": [
        {
          "output_type": "execute_result",
          "data": {
            "text/plain": [
              "5"
            ]
          },
          "metadata": {},
          "execution_count": 17
        }
      ]
    },
    {
      "cell_type": "code",
      "source": [
        "mylst[4]\n"
      ],
      "metadata": {
        "colab": {
          "base_uri": "https://localhost:8080/"
        },
        "id": "2TVUR-pMtSu5",
        "outputId": "8956bdc2-33dd-4c08-f55c-9c0d49ba34ab"
      },
      "execution_count": null,
      "outputs": [
        {
          "output_type": "execute_result",
          "data": {
            "text/plain": [
              "['a', 1, 2.3]"
            ]
          },
          "metadata": {},
          "execution_count": 18
        }
      ]
    },
    {
      "cell_type": "code",
      "source": [
        "mylst[1:5]\n"
      ],
      "metadata": {
        "colab": {
          "base_uri": "https://localhost:8080/"
        },
        "id": "s8dJh8d9tXmE",
        "outputId": "cddab0c0-707f-470b-91f9-3ce216aa6744"
      },
      "execution_count": null,
      "outputs": [
        {
          "output_type": "execute_result",
          "data": {
            "text/plain": [
              "[20.5, 'Jatin', (45+7j), ['a', 1, 2.3]]"
            ]
          },
          "metadata": {},
          "execution_count": 19
        }
      ]
    },
    {
      "cell_type": "markdown",
      "source": [
        "Tuple is also a group of hetrogeneous data but it is immutable. Implemented using ().\n",
        "\n",
        "We also have DICTIONARY.\n",
        "It is the data in the form of key-value pairs. Here the key is unique.It is defined by curly Brackets.\n",
        "{key1:value1,key2:value2}\n",
        "\n",
        "We also have Sets.\n",
        "It is unordered collection of heterogeneous data.In curly Bracket.\n",
        "{a1,a2,a3}"
      ],
      "metadata": {
        "id": "H3iep2rctdtV"
      }
    },
    {
      "cell_type": "code",
      "source": [
        "mytuple=(20,20.5,\"Jatin\",[1,2,\"a\"])\n",
        "print(mytuple)\n"
      ],
      "metadata": {
        "colab": {
          "base_uri": "https://localhost:8080/"
        },
        "id": "WK5XlqP0tcJA",
        "outputId": "cbff15ad-cbdb-4f59-9994-b20b071a2ebb"
      },
      "execution_count": null,
      "outputs": [
        {
          "output_type": "stream",
          "name": "stdout",
          "text": [
            "(20, 20.5, 'Jatin', [1, 2, 'a'])\n"
          ]
        }
      ]
    },
    {
      "cell_type": "code",
      "source": [
        "#in a tuple we can take any type of data."
      ],
      "metadata": {
        "id": "5H1IKpl_uTXR"
      },
      "execution_count": null,
      "outputs": []
    },
    {
      "cell_type": "code",
      "source": [
        "myset={20,20.3,\"Jatin\",True}\n",
        "print(myset)"
      ],
      "metadata": {
        "colab": {
          "base_uri": "https://localhost:8080/"
        },
        "id": "SxFyQ9ucujJy",
        "outputId": "f8df9670-829b-47ac-e9e2-69b94a15988d"
      },
      "execution_count": null,
      "outputs": [
        {
          "output_type": "stream",
          "name": "stdout",
          "text": [
            "{True, 20, 20.3, 'Jatin'}\n"
          ]
        }
      ]
    },
    {
      "cell_type": "code",
      "source": [
        "#Set is not an ordered data. Hence no indexing also we can't use list in it."
      ],
      "metadata": {
        "id": "RGygUdNUup8E"
      },
      "execution_count": null,
      "outputs": []
    },
    {
      "cell_type": "code",
      "source": [
        "mydict={\"name\":\"Jatin\",\"age\":19}\n",
        "print(mydict)"
      ],
      "metadata": {
        "colab": {
          "base_uri": "https://localhost:8080/"
        },
        "id": "UTgy3dfFuxcI",
        "outputId": "b806155b-7200-436d-811e-81ff83121ff4"
      },
      "execution_count": null,
      "outputs": [
        {
          "output_type": "stream",
          "name": "stdout",
          "text": [
            "{'name': 'Jatin', 'age': 19}\n"
          ]
        }
      ]
    },
    {
      "cell_type": "code",
      "source": [
        "mydict={\"name\":\"Jai\",\"age\":19,\"name\":\"Jatin\"}\n",
        "print(mydict)"
      ],
      "metadata": {
        "colab": {
          "base_uri": "https://localhost:8080/"
        },
        "id": "UGQqYAqnu61h",
        "outputId": "d66102b2-9197-440a-b4ec-f1e5b4582c4b"
      },
      "execution_count": null,
      "outputs": [
        {
          "output_type": "stream",
          "name": "stdout",
          "text": [
            "{'name': 'Jatin', 'age': 19}\n"
          ]
        }
      ]
    },
    {
      "cell_type": "code",
      "source": [
        "mydict['name']"
      ],
      "metadata": {
        "colab": {
          "base_uri": "https://localhost:8080/",
          "height": 36
        },
        "id": "Hp4srVBsvNQ6",
        "outputId": "df7629cd-416d-454c-8e7c-a0a0f1c5e7ca"
      },
      "execution_count": null,
      "outputs": [
        {
          "output_type": "execute_result",
          "data": {
            "text/plain": [
              "'Jatin'"
            ],
            "application/vnd.google.colaboratory.intrinsic+json": {
              "type": "string"
            }
          },
          "metadata": {},
          "execution_count": 26
        }
      ]
    },
    {
      "cell_type": "code",
      "source": [
        "#CONDITIONALS in Python."
      ],
      "metadata": {
        "id": "tf9JSsCdvezo"
      },
      "execution_count": null,
      "outputs": []
    },
    {
      "cell_type": "markdown",
      "source": [
        "if else\n",
        "for loop\n",
        "while loop"
      ],
      "metadata": {
        "id": "decMWYA6wDfk"
      }
    },
    {
      "cell_type": "code",
      "source": [
        "num = input(\"Enter a number:\")"
      ],
      "metadata": {
        "colab": {
          "base_uri": "https://localhost:8080/"
        },
        "id": "XJWnHvelwCP5",
        "outputId": "bc73c572-cfe0-481b-c22f-48b065250380"
      },
      "execution_count": null,
      "outputs": [
        {
          "name": "stdout",
          "output_type": "stream",
          "text": [
            "Enter a number:12\n"
          ]
        }
      ]
    },
    {
      "cell_type": "code",
      "source": [
        "print(num)"
      ],
      "metadata": {
        "colab": {
          "base_uri": "https://localhost:8080/"
        },
        "id": "blOU_qN3wShh",
        "outputId": "ca15c2a4-a457-4ad9-a48d-c59e03e2726b"
      },
      "execution_count": null,
      "outputs": [
        {
          "output_type": "stream",
          "name": "stdout",
          "text": [
            "12\n"
          ]
        }
      ]
    },
    {
      "cell_type": "code",
      "source": [
        "type(num)"
      ],
      "metadata": {
        "colab": {
          "base_uri": "https://localhost:8080/"
        },
        "id": "KGQTSABkwXBK",
        "outputId": "6bd3b93b-11ea-482e-a4d5-d8f600c5e550"
      },
      "execution_count": null,
      "outputs": [
        {
          "output_type": "execute_result",
          "data": {
            "text/plain": [
              "str"
            ]
          },
          "metadata": {},
          "execution_count": 30
        }
      ]
    },
    {
      "cell_type": "code",
      "source": [
        "num = int(input(\"Enter a number:\"))\n",
        "print(num)\n",
        "type(num)\n"
      ],
      "metadata": {
        "colab": {
          "base_uri": "https://localhost:8080/"
        },
        "id": "R0-diKVswY2L",
        "outputId": "01e53807-f8ab-4235-c7ae-e19facfd06b6"
      },
      "execution_count": null,
      "outputs": [
        {
          "output_type": "stream",
          "name": "stdout",
          "text": [
            "Enter a number:12\n",
            "12\n"
          ]
        },
        {
          "output_type": "execute_result",
          "data": {
            "text/plain": [
              "int"
            ]
          },
          "metadata": {},
          "execution_count": 31
        }
      ]
    },
    {
      "cell_type": "code",
      "source": [
        "if num>0:\n",
        "  print(\"Positive Number\")\n",
        "elif num==0:\n",
        "  print(\"Zero\")\n",
        "else:\n",
        "  print(\"Negative Number\")"
      ],
      "metadata": {
        "colab": {
          "base_uri": "https://localhost:8080/"
        },
        "id": "hj9kr3O8wdwu",
        "outputId": "87b6d7fa-188b-481f-f3a3-22eac20c7abb"
      },
      "execution_count": null,
      "outputs": [
        {
          "output_type": "stream",
          "name": "stdout",
          "text": [
            "Positive Number\n"
          ]
        }
      ]
    },
    {
      "cell_type": "code",
      "source": [
        "num1=float(input(\"Enter the number\"))\n",
        "num2=float(input(\"Enter the number\"))\n",
        "op=input(\"Enter the operator\")\n",
        "if op=='+':\n",
        "  print(num1+num2)\n",
        "elif op=='*':\n",
        "  print(num1*num2)\n",
        "elif op=='-':\n",
        "  print(num1-num2)\n",
        "elif op=='/':\n",
        "  print(num1/num2)\n",
        "else:\n",
        "  print(\"Enter valid Operator.\")"
      ],
      "metadata": {
        "colab": {
          "base_uri": "https://localhost:8080/"
        },
        "id": "R1qGR8yUwxTu",
        "outputId": "653bc8a1-4251-47f2-9844-8f0e6af54107"
      },
      "execution_count": null,
      "outputs": [
        {
          "output_type": "stream",
          "name": "stdout",
          "text": [
            "Enter the number32\n",
            "Enter the number36\n",
            "Enter the operator*\n",
            "1152.0\n"
          ]
        }
      ]
    },
    {
      "cell_type": "code",
      "source": [
        "i=0\n",
        "while(i<10):\n",
        "  print(\"The value of i is \", i)\n",
        "  i=i+1"
      ],
      "metadata": {
        "colab": {
          "base_uri": "https://localhost:8080/"
        },
        "id": "3DLLMPVuyeCB",
        "outputId": "3c843e27-7879-418e-ab40-8646bbc59ca4"
      },
      "execution_count": null,
      "outputs": [
        {
          "output_type": "stream",
          "name": "stdout",
          "text": [
            "The value of i is  0\n",
            "The value of i is  1\n",
            "The value of i is  2\n",
            "The value of i is  3\n",
            "The value of i is  4\n",
            "The value of i is  5\n",
            "The value of i is  6\n",
            "The value of i is  7\n",
            "The value of i is  8\n",
            "The value of i is  9\n"
          ]
        }
      ]
    },
    {
      "cell_type": "code",
      "source": [
        "mylst = [\"Mumbai\",\"Delhi\",\"Amritsar\",\"Kolkata\",\"Varanasi\"]"
      ],
      "metadata": {
        "id": "IOfo6Fy_y4O0"
      },
      "execution_count": null,
      "outputs": []
    },
    {
      "cell_type": "code",
      "source": [
        "i=0\n",
        "while(i<len(mylst)):\n",
        "  print(mylst[i])\n",
        "  i+=1"
      ],
      "metadata": {
        "colab": {
          "base_uri": "https://localhost:8080/"
        },
        "id": "WjfTNkAczn8i",
        "outputId": "c13d19bb-a1be-4ff2-e01c-4c9c0fd182f4"
      },
      "execution_count": null,
      "outputs": [
        {
          "output_type": "stream",
          "name": "stdout",
          "text": [
            "Mumbai\n",
            "Delhi\n",
            "Amritsar\n",
            "Kolkata\n",
            "Varanasi\n"
          ]
        }
      ]
    },
    {
      "cell_type": "code",
      "source": [
        "for i in range(10):\n",
        "  print(\"Value of i is \",i)"
      ],
      "metadata": {
        "colab": {
          "base_uri": "https://localhost:8080/"
        },
        "id": "KbHny4Sizzvw",
        "outputId": "108c557b-a2a7-4b3e-aefe-c197acbd5f4d"
      },
      "execution_count": null,
      "outputs": [
        {
          "output_type": "stream",
          "name": "stdout",
          "text": [
            "Value of i is  0\n",
            "Value of i is  1\n",
            "Value of i is  2\n",
            "Value of i is  3\n",
            "Value of i is  4\n",
            "Value of i is  5\n",
            "Value of i is  6\n",
            "Value of i is  7\n",
            "Value of i is  8\n",
            "Value of i is  9\n"
          ]
        }
      ]
    },
    {
      "cell_type": "code",
      "source": [
        "for i in range(10,20,2):\n",
        "  print(\"Value of i is \",i)"
      ],
      "metadata": {
        "colab": {
          "base_uri": "https://localhost:8080/"
        },
        "id": "H5MNxjmq0WSC",
        "outputId": "c50a5b8b-d028-401a-f24a-0f097388af74"
      },
      "execution_count": null,
      "outputs": [
        {
          "output_type": "stream",
          "name": "stdout",
          "text": [
            "Value of i is  10\n",
            "Value of i is  12\n",
            "Value of i is  14\n",
            "Value of i is  16\n",
            "Value of i is  18\n"
          ]
        }
      ]
    },
    {
      "cell_type": "code",
      "source": [
        "for i in range(len(mylst)):\n",
        "  print(mylst[i])"
      ],
      "metadata": {
        "colab": {
          "base_uri": "https://localhost:8080/"
        },
        "id": "E3TAMYWE0bCV",
        "outputId": "2170ebb5-3d52-499b-95ef-8f074e65c002"
      },
      "execution_count": null,
      "outputs": [
        {
          "output_type": "stream",
          "name": "stdout",
          "text": [
            "Mumbai\n",
            "Delhi\n",
            "Amritsar\n",
            "Kolkata\n",
            "Varanasi\n"
          ]
        }
      ]
    },
    {
      "cell_type": "code",
      "source": [
        "for i in mylst:\n",
        "  print(i)"
      ],
      "metadata": {
        "colab": {
          "base_uri": "https://localhost:8080/"
        },
        "id": "kv9NwU1h0scN",
        "outputId": "4e39daa3-f7dd-469f-db0a-9b2e80c68a3b"
      },
      "execution_count": null,
      "outputs": [
        {
          "output_type": "stream",
          "name": "stdout",
          "text": [
            "Mumbai\n",
            "Delhi\n",
            "Amritsar\n",
            "Kolkata\n",
            "Varanasi\n"
          ]
        }
      ]
    },
    {
      "cell_type": "code",
      "source": [
        "#FUNCTIONS IN PYTHON"
      ],
      "metadata": {
        "id": "Y62wgcVR05Hh"
      },
      "execution_count": null,
      "outputs": []
    },
    {
      "cell_type": "code",
      "source": [
        "#print(), len(), range(), type(), input() all these are inbuilt functions in python."
      ],
      "metadata": {
        "id": "N5FxEWBG1SwQ"
      },
      "execution_count": null,
      "outputs": []
    },
    {
      "cell_type": "code",
      "source": [
        "#1.Function without Arguement.\n",
        "#2. Function with arguement.\n",
        "#3.Function with default arguement.\n",
        "#.Function with return Statement."
      ],
      "metadata": {
        "id": "qP5a497W1xil"
      },
      "execution_count": null,
      "outputs": []
    },
    {
      "cell_type": "code",
      "source": [
        "#1. Function with Arguement.\n",
        "def myFunc():\n",
        "  print(\"This is my function.\")\n",
        "\n",
        "myFunc()"
      ],
      "metadata": {
        "colab": {
          "base_uri": "https://localhost:8080/"
        },
        "id": "8NHL8hNb2Ee_",
        "outputId": "a02a59fc-dfca-4f0b-8b61-9da1e70a8a05"
      },
      "execution_count": null,
      "outputs": [
        {
          "output_type": "stream",
          "name": "stdout",
          "text": [
            "This is my function.\n"
          ]
        }
      ]
    },
    {
      "cell_type": "code",
      "source": [
        "#2.Function with Arguement.\n",
        "def myCalc(a,b,op):\n",
        "  if op=='+':\n",
        "    print(num1+num2)\n",
        "  elif op=='*':\n",
        "    print(num1*num2)\n",
        "  elif op=='-':\n",
        "    print(num1-num2)\n",
        "  elif op=='/':\n",
        "    print(num1/num2)\n",
        "  else:\n",
        "    print(\"Enter valid Operator.\")\n",
        "\n",
        "num1=float(input(\"Enter the number\"))\n",
        "num2=float(input(\"Enter the number\"))\n",
        "op=input(\"Enter the operator\")\n",
        "\n",
        "myCalc(num1,num2,op)"
      ],
      "metadata": {
        "colab": {
          "base_uri": "https://localhost:8080/"
        },
        "id": "JA_QUlcs2QGx",
        "outputId": "1dd037b5-1a04-4c14-d550-d07f4f4486bf"
      },
      "execution_count": null,
      "outputs": [
        {
          "output_type": "stream",
          "name": "stdout",
          "text": [
            "Enter the number32\n",
            "Enter the number36\n",
            "Enter the operator*\n",
            "1152.0\n"
          ]
        }
      ]
    },
    {
      "cell_type": "code",
      "source": [
        "33#3.Default Arguement.\n",
        "#def myCalc(a=0,b=0,op='+')"
      ],
      "metadata": {
        "id": "hTiUle682ukR",
        "colab": {
          "base_uri": "https://localhost:8080/"
        },
        "outputId": "79967874-f6ad-46b7-cd89-5c80a5fbd7c9"
      },
      "execution_count": null,
      "outputs": [
        {
          "output_type": "execute_result",
          "data": {
            "text/plain": [
              "33"
            ]
          },
          "metadata": {},
          "execution_count": 46
        }
      ]
    },
    {
      "cell_type": "code",
      "source": [
        "#4.Function with Return statement.\n",
        "#def myCalc_ret(a,b,op)\n",
        "#here just write return a+b and return a-b and so on no need to write print and all."
      ],
      "metadata": {
        "id": "l7VDabNE3mA5"
      },
      "execution_count": null,
      "outputs": []
    },
    {
      "cell_type": "code",
      "source": [],
      "metadata": {
        "id": "1cEWGCKt4aba"
      },
      "execution_count": null,
      "outputs": []
    }
  ]
}