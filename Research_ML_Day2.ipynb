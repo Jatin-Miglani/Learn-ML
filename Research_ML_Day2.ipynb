{
  "nbformat": 4,
  "nbformat_minor": 0,
  "metadata": {
    "colab": {
      "provenance": [],
      "authorship_tag": "ABX9TyOyk0WxqTvRvvmCcx34ieer",
      "include_colab_link": true
    },
    "kernelspec": {
      "name": "python3",
      "display_name": "Python 3"
    },
    "language_info": {
      "name": "python"
    }
  },
  "cells": [
    {
      "cell_type": "markdown",
      "metadata": {
        "id": "view-in-github",
        "colab_type": "text"
      },
      "source": [
        "<a href=\"https://colab.research.google.com/github/Jatin-Miglani/Learn-ML/blob/main/Research_ML_Day2.ipynb\" target=\"_parent\"><img src=\"https://colab.research.google.com/assets/colab-badge.svg\" alt=\"Open In Colab\"/></a>"
      ]
    },
    {
      "cell_type": "code",
      "execution_count": null,
      "metadata": {
        "id": "phESW_ccRSsH"
      },
      "outputs": [],
      "source": [
        "#NUMPY and how to create array using Numpy."
      ]
    },
    {
      "cell_type": "markdown",
      "source": [
        "Numpy is used for Arrays.\n",
        "It is a Package or a library in Python to perform mathematica operations on array.\n",
        "\n",
        "We can also work on Multidimensional Arrays(1d,2d,3d).\n",
        "\n",
        "An array is a group of homogeneous data.\n",
        "\n",
        "List v/s Array:-"
      ],
      "metadata": {
        "id": "yuHr1G6BSPIh"
      }
    },
    {
      "cell_type": "code",
      "source": [
        "a1=[1,2,3,4,5]\n",
        "a2=[10,11,12,13,14]\n",
        "#data type is int for both lists. List can store elements with different data Types.\n",
        "a3=a1+a2\n",
        "print(a3)"
      ],
      "metadata": {
        "colab": {
          "base_uri": "https://localhost:8080/"
        },
        "id": "PbPLxkxrSBgw",
        "outputId": "e816d212-1c15-48c2-9299-33ae824ad3d2"
      },
      "execution_count": null,
      "outputs": [
        {
          "output_type": "stream",
          "name": "stdout",
          "text": [
            "[1, 2, 3, 4, 5, 10, 11, 12, 13, 14]\n"
          ]
        }
      ]
    },
    {
      "cell_type": "code",
      "source": [
        "#items will not add they will concatenate. In List mathematical Operation can't be performed directly.\n"
      ],
      "metadata": {
        "id": "lXouWDG6TNy6"
      },
      "execution_count": null,
      "outputs": []
    },
    {
      "cell_type": "code",
      "source": [
        "import numpy as np\n",
        "#as np means that wherever we will use numpy we will write np"
      ],
      "metadata": {
        "id": "j9IwW2iyToJC"
      },
      "execution_count": null,
      "outputs": []
    },
    {
      "cell_type": "code",
      "source": [
        "a1=np.array([1,2,3,4,5])\n",
        "a2=np.array([11,12,13,14,15])\n",
        "#now a1 and a2 are arrays\n",
        "type(a1)"
      ],
      "metadata": {
        "colab": {
          "base_uri": "https://localhost:8080/"
        },
        "id": "M7_-s7G_TwHW",
        "outputId": "2a041b1a-ef95-4ec6-b30a-1a3347fc14cb"
      },
      "execution_count": null,
      "outputs": [
        {
          "output_type": "execute_result",
          "data": {
            "text/plain": [
              "numpy.ndarray"
            ]
          },
          "metadata": {},
          "execution_count": 5
        }
      ]
    },
    {
      "cell_type": "code",
      "source": [
        "a3=a1+a2\n",
        "a3"
      ],
      "metadata": {
        "colab": {
          "base_uri": "https://localhost:8080/"
        },
        "id": "_b047KfSUEYH",
        "outputId": "e3431be0-ed6e-4c89-ab94-cb0bfc177ec5"
      },
      "execution_count": null,
      "outputs": [
        {
          "output_type": "execute_result",
          "data": {
            "text/plain": [
              "array([12, 14, 16, 18, 20])"
            ]
          },
          "metadata": {},
          "execution_count": 6
        }
      ]
    },
    {
      "cell_type": "code",
      "source": [
        "#arrays store homogeneous data.\n",
        "a1 = np.array([1,2,3,4,5,6,7,8,9,10])\n",
        "#look at number of square brackets to know the dimension of array.\n",
        "#so it is 1-d Array.\n",
        "a2= np.array([[1,2,3,4,5,6,7,8,9,10]])\n",
        "#it is 2-d array.\n",
        "a3= np.array([[1,2,3,4,5,6,7,8,9,10],[1,2,3,4,5,6,7,8,9,10],[1,2,3,4,5,6,7,8,9,10]])\n",
        "#it is a 2-d array.\n"
      ],
      "metadata": {
        "id": "3W0Rm6wiUJT3"
      },
      "execution_count": null,
      "outputs": []
    },
    {
      "cell_type": "code",
      "source": [
        "print(a1.ndim)\n",
        "#to check the dimension of array"
      ],
      "metadata": {
        "colab": {
          "base_uri": "https://localhost:8080/"
        },
        "id": "HQXFTts4ViQL",
        "outputId": "4b07f2be-d743-4827-dbc4-a010eb4b6efb"
      },
      "execution_count": null,
      "outputs": [
        {
          "output_type": "stream",
          "name": "stdout",
          "text": [
            "1\n"
          ]
        }
      ]
    },
    {
      "cell_type": "code",
      "source": [
        "print(a2.ndim,\" \",a3.ndim)"
      ],
      "metadata": {
        "colab": {
          "base_uri": "https://localhost:8080/"
        },
        "id": "-ICbAgLmV_0U",
        "outputId": "b50e60a6-e85c-4974-9371-4a5396059c93"
      },
      "execution_count": null,
      "outputs": [
        {
          "output_type": "stream",
          "name": "stdout",
          "text": [
            "2   2\n"
          ]
        }
      ]
    },
    {
      "cell_type": "code",
      "source": [
        "#3-d array Color Image and 2-d array Black-white image this is used for images."
      ],
      "metadata": {
        "id": "ix9QBAxdWGHn"
      },
      "execution_count": null,
      "outputs": []
    },
    {
      "cell_type": "code",
      "source": [
        "#How to count the number of dimensions in an array.\n",
        "a1+a2+a2"
      ],
      "metadata": {
        "colab": {
          "base_uri": "https://localhost:8080/"
        },
        "id": "ovqSDtEjWbqQ",
        "outputId": "8f76a30f-bcfd-43ed-e906-388cc9f4bb19"
      },
      "execution_count": null,
      "outputs": [
        {
          "output_type": "execute_result",
          "data": {
            "text/plain": [
              "array([[ 3,  6,  9, 12, 15, 18, 21, 24, 27, 30]])"
            ]
          },
          "metadata": {},
          "execution_count": 11
        }
      ]
    },
    {
      "cell_type": "code",
      "source": [
        "#it add the first elements of array accoring to 1-d\n"
      ],
      "metadata": {
        "id": "MMVGI6ZRWncH"
      },
      "execution_count": null,
      "outputs": []
    },
    {
      "cell_type": "code",
      "source": [
        "print(len(a1))\n",
        "print(len(a2))\n",
        "print(len(a3))\n"
      ],
      "metadata": {
        "colab": {
          "base_uri": "https://localhost:8080/"
        },
        "id": "8aKS2OO6W_nH",
        "outputId": "caa86ea8-f44f-4c1a-e891-fd8abba10ad7"
      },
      "execution_count": null,
      "outputs": [
        {
          "output_type": "stream",
          "name": "stdout",
          "text": [
            "10\n",
            "1\n",
            "3\n"
          ]
        }
      ]
    },
    {
      "cell_type": "code",
      "source": [
        "print(a1.shape)"
      ],
      "metadata": {
        "colab": {
          "base_uri": "https://localhost:8080/"
        },
        "id": "MDInQ21xXEYO",
        "outputId": "893f6323-2372-4087-a0cf-ff3e0bf23d48"
      },
      "execution_count": null,
      "outputs": [
        {
          "output_type": "stream",
          "name": "stdout",
          "text": [
            "(10,)\n"
          ]
        }
      ]
    },
    {
      "cell_type": "code",
      "source": [
        "print(a2.shape)\n",
        "print(a3.shape)\n"
      ],
      "metadata": {
        "colab": {
          "base_uri": "https://localhost:8080/"
        },
        "id": "QI6voAU9XuEl",
        "outputId": "d5363343-00ea-4ae7-89cb-c09b2c5e3905"
      },
      "execution_count": null,
      "outputs": [
        {
          "output_type": "stream",
          "name": "stdout",
          "text": [
            "(1, 10)\n",
            "(3, 10)\n"
          ]
        }
      ]
    },
    {
      "cell_type": "code",
      "source": [
        "#a1 has 10 elements only\n",
        "#a2 has 10 elements in 1 element\n",
        "#a3 has 10 elements each in the 3 elements."
      ],
      "metadata": {
        "id": "iNhAsmwDXydr"
      },
      "execution_count": null,
      "outputs": []
    },
    {
      "cell_type": "code",
      "source": [
        "print(a1.dtype)"
      ],
      "metadata": {
        "colab": {
          "base_uri": "https://localhost:8080/"
        },
        "id": "xvZpkzdrY15V",
        "outputId": "591cb4c1-4255-4a00-d06b-e5163f001a09"
      },
      "execution_count": null,
      "outputs": [
        {
          "output_type": "stream",
          "name": "stdout",
          "text": [
            "int64\n"
          ]
        }
      ]
    },
    {
      "cell_type": "code",
      "source": [
        "#it gives the data type of array."
      ],
      "metadata": {
        "id": "gFgZMN1vY4Ua"
      },
      "execution_count": null,
      "outputs": []
    },
    {
      "cell_type": "code",
      "source": [
        "print(a2.dtype)\n",
        "print(a3.dtype)\n"
      ],
      "metadata": {
        "colab": {
          "base_uri": "https://localhost:8080/"
        },
        "id": "N8yXwQ0NY7la",
        "outputId": "8788e39d-e150-4479-f8cf-dfa52c941f39"
      },
      "execution_count": null,
      "outputs": [
        {
          "output_type": "stream",
          "name": "stdout",
          "text": [
            "int64\n",
            "int64\n"
          ]
        }
      ]
    },
    {
      "cell_type": "code",
      "source": [
        "a2.shape[1]"
      ],
      "metadata": {
        "colab": {
          "base_uri": "https://localhost:8080/"
        },
        "id": "xLLQg3HJY-fi",
        "outputId": "6d6f1909-982d-40ef-cd59-b718836e8b44"
      },
      "execution_count": null,
      "outputs": [
        {
          "output_type": "execute_result",
          "data": {
            "text/plain": [
              "10"
            ]
          },
          "metadata": {},
          "execution_count": 20
        }
      ]
    },
    {
      "cell_type": "code",
      "source": [
        "#hence you can find shape of elements in an array."
      ],
      "metadata": {
        "id": "W60LPxkJZLw8"
      },
      "execution_count": null,
      "outputs": []
    },
    {
      "cell_type": "code",
      "source": [
        "#How to generate random array. To generate random data in Numpy.\n",
        "\n"
      ],
      "metadata": {
        "id": "Njs5sapQZRDw"
      },
      "execution_count": null,
      "outputs": []
    },
    {
      "cell_type": "code",
      "source": [
        "np.random.randint(100)   #it will give you a single random number from 0 to 99"
      ],
      "metadata": {
        "colab": {
          "base_uri": "https://localhost:8080/"
        },
        "id": "oVlUlqRYZZYM",
        "outputId": "1bd9a136-6901-450a-e96c-ab4a47a54d9b"
      },
      "execution_count": null,
      "outputs": [
        {
          "output_type": "execute_result",
          "data": {
            "text/plain": [
              "19"
            ]
          },
          "metadata": {},
          "execution_count": 23
        }
      ]
    },
    {
      "cell_type": "code",
      "source": [
        "# Generate random number but number should be same in all the systems.\n",
        "np.random.seed(100) # any value b/w 0 to 2**32-1\n",
        "np.random.randint(100)"
      ],
      "metadata": {
        "colab": {
          "base_uri": "https://localhost:8080/"
        },
        "id": "I4t1jZVuZidN",
        "outputId": "8106e244-58bd-4a4e-e49e-5ed36cce9548"
      },
      "execution_count": null,
      "outputs": [
        {
          "output_type": "execute_result",
          "data": {
            "text/plain": [
              "8"
            ]
          },
          "metadata": {},
          "execution_count": 24
        }
      ]
    },
    {
      "cell_type": "code",
      "source": [
        "#seed value make random data fixed.\n",
        "# 8 is fixed at 100. It is fixed in memory."
      ],
      "metadata": {
        "id": "J_rVg4qkbdiP"
      },
      "execution_count": null,
      "outputs": []
    },
    {
      "cell_type": "code",
      "source": [
        "np.random.randint(100,1000) #100 to 999"
      ],
      "metadata": {
        "colab": {
          "base_uri": "https://localhost:8080/"
        },
        "id": "Bbkuh3V_ci5E",
        "outputId": "81c19759-ed30-43af-ea83-c0ee18af20f2"
      },
      "execution_count": null,
      "outputs": [
        {
          "output_type": "execute_result",
          "data": {
            "text/plain": [
              "892"
            ]
          },
          "metadata": {},
          "execution_count": 26
        }
      ]
    },
    {
      "cell_type": "code",
      "source": [
        "#for generating multiple numbers we will write.\n",
        "np.random.randint(100,1000,10)"
      ],
      "metadata": {
        "colab": {
          "base_uri": "https://localhost:8080/"
        },
        "id": "5ZZ_eT46cn_z",
        "outputId": "51237c36-c95c-4ba9-9bc4-30a7560128d5"
      },
      "execution_count": null,
      "outputs": [
        {
          "output_type": "execute_result",
          "data": {
            "text/plain": [
              "array([935, 971, 955, 179, 450, 966, 153, 678, 838, 626])"
            ]
          },
          "metadata": {},
          "execution_count": 27
        }
      ]
    },
    {
      "cell_type": "code",
      "source": [
        "#it generate 10 samples in an array.\n",
        "#it give 1-d array.\n"
      ],
      "metadata": {
        "id": "iBQBzEKIcyDp"
      },
      "execution_count": null,
      "outputs": []
    },
    {
      "cell_type": "code",
      "source": [
        "np.random.randint(100,1000,(5,5))"
      ],
      "metadata": {
        "colab": {
          "base_uri": "https://localhost:8080/"
        },
        "id": "EqbvlT9Uc-WX",
        "outputId": "b6a0a651-853b-4b35-f106-f6546ec3d84b"
      },
      "execution_count": null,
      "outputs": [
        {
          "output_type": "execute_result",
          "data": {
            "text/plain": [
              "array([[902, 852, 380, 755, 328],\n",
              "       [975, 416, 670, 607, 749],\n",
              "       [193, 186, 486, 767, 976],\n",
              "       [515, 997, 241, 857, 823],\n",
              "       [712, 104, 703, 935, 235]])"
            ]
          },
          "metadata": {},
          "execution_count": 29
        }
      ]
    },
    {
      "cell_type": "code",
      "source": [
        "#hence we got a 2-d array"
      ],
      "metadata": {
        "id": "0ohMstmFdCsC"
      },
      "execution_count": null,
      "outputs": []
    },
    {
      "cell_type": "code",
      "source": [
        "#all these are int data type. What if we want float. We will write:-"
      ],
      "metadata": {
        "id": "wISO4ZU5dO47"
      },
      "execution_count": null,
      "outputs": []
    },
    {
      "cell_type": "code",
      "source": [
        "np.random.uniform(100,1000,(5,5))"
      ],
      "metadata": {
        "colab": {
          "base_uri": "https://localhost:8080/"
        },
        "id": "gyeBdXvudZGF",
        "outputId": "c01fef86-6aad-414d-952d-91e45a763d69"
      },
      "execution_count": null,
      "outputs": [
        {
          "output_type": "execute_result",
          "data": {
            "text/plain": [
              "array([[835.8844409 , 402.50075511, 257.86940837, 435.54884166,\n",
              "        105.11965662],\n",
              "       [327.1837181 , 816.09625763, 113.72947412, 638.95903924,\n",
              "        643.42408514],\n",
              "       [194.63291687, 443.74910045, 132.82845093, 901.3704071 ,\n",
              "        982.82877131],\n",
              "       [153.94778994, 901.49135026, 619.21134946, 768.23172019,\n",
              "        667.16554283],\n",
              "       [623.65797316, 118.39521882, 289.02391991, 590.21639036,\n",
              "        792.203654  ]])"
            ]
          },
          "metadata": {},
          "execution_count": 32
        }
      ]
    },
    {
      "cell_type": "code",
      "source": [
        "#here i get big decimal values. What if we want upto 2 decimal places. We will write.\n",
        "\n",
        "a=np.random.uniform(100,1000,(5,5))\n",
        "np.round(a,2)"
      ],
      "metadata": {
        "colab": {
          "base_uri": "https://localhost:8080/"
        },
        "id": "vlJ0Osb1deRj",
        "outputId": "bfd1529b-f864-4ab7-9a78-e58fadfb3de6"
      },
      "execution_count": null,
      "outputs": [
        {
          "output_type": "execute_result",
          "data": {
            "text/plain": [
              "array([[325.63, 357.31, 867.16, 977.51, 896.37],\n",
              "       [423.56, 638.97, 419.32, 406.17, 260.27],\n",
              "       [313.92, 140.38, 554.89, 438.63, 633.52],\n",
              "       [666.95, 228.34, 940.46, 951.74, 642.07],\n",
              "       [448.99, 426.87, 283.91, 349.09, 321.88]])"
            ]
          },
          "metadata": {},
          "execution_count": 33
        }
      ]
    },
    {
      "cell_type": "code",
      "source": [
        "np.ceil(a)"
      ],
      "metadata": {
        "colab": {
          "base_uri": "https://localhost:8080/"
        },
        "id": "HLQhLPK4dwfI",
        "outputId": "c93c1ddd-d3f5-4817-a7be-41a1dfeacbfe"
      },
      "execution_count": null,
      "outputs": [
        {
          "output_type": "execute_result",
          "data": {
            "text/plain": [
              "array([[326., 358., 868., 978., 897.],\n",
              "       [424., 639., 420., 407., 261.],\n",
              "       [314., 141., 555., 439., 634.],\n",
              "       [667., 229., 941., 952., 643.],\n",
              "       [449., 427., 284., 350., 322.]])"
            ]
          },
          "metadata": {},
          "execution_count": 34
        }
      ]
    },
    {
      "cell_type": "code",
      "source": [
        "#in ceil the decimals will get removed."
      ],
      "metadata": {
        "id": "HNRvWNMbd3jf"
      },
      "execution_count": null,
      "outputs": []
    },
    {
      "cell_type": "code",
      "source": [
        "#MATHEMATICAL FUNCTIONS."
      ],
      "metadata": {
        "id": "Jd-3rsDrd8Nq"
      },
      "execution_count": null,
      "outputs": []
    },
    {
      "cell_type": "code",
      "source": [
        "#ARRAY SLICING\n",
        "np.random.seed(1)\n",
        "arr=np.random.randint(1,20,(8,6))\n",
        "arr"
      ],
      "metadata": {
        "colab": {
          "base_uri": "https://localhost:8080/"
        },
        "id": "CcxbR__veUtw",
        "outputId": "703cac16-ac33-49b5-e67a-af9d385daf9c"
      },
      "execution_count": null,
      "outputs": [
        {
          "output_type": "execute_result",
          "data": {
            "text/plain": [
              "array([[ 6, 12, 13,  9, 10, 12],\n",
              "       [ 6, 16,  1, 17,  2, 13],\n",
              "       [ 8, 14,  7, 19,  6, 19],\n",
              "       [12, 11, 15, 19,  5, 10],\n",
              "       [18,  1, 14, 10, 10,  8],\n",
              "       [ 2,  1, 18,  9, 14, 16],\n",
              "       [11,  9,  8,  4,  7, 18],\n",
              "       [ 4,  5, 18, 12, 13, 17]])"
            ]
          },
          "metadata": {},
          "execution_count": 37
        }
      ]
    },
    {
      "cell_type": "code",
      "source": [
        "arr[:,:]     #the first colon represents the rows and the second colon represent columns"
      ],
      "metadata": {
        "colab": {
          "base_uri": "https://localhost:8080/"
        },
        "id": "7QvtKYooehIE",
        "outputId": "266a70e1-e9bb-4ec0-ac79-1eb9ecc6f80f"
      },
      "execution_count": null,
      "outputs": [
        {
          "output_type": "execute_result",
          "data": {
            "text/plain": [
              "array([[ 6, 12, 13,  9, 10, 12],\n",
              "       [ 6, 16,  1, 17,  2, 13],\n",
              "       [ 8, 14,  7, 19,  6, 19],\n",
              "       [12, 11, 15, 19,  5, 10],\n",
              "       [18,  1, 14, 10, 10,  8],\n",
              "       [ 2,  1, 18,  9, 14, 16],\n",
              "       [11,  9,  8,  4,  7, 18],\n",
              "       [ 4,  5, 18, 12, 13, 17]])"
            ]
          },
          "metadata": {},
          "execution_count": 38
        }
      ]
    },
    {
      "cell_type": "code",
      "source": [
        "#here we get the complete array.\n",
        "#waht if i want 7,19,6   15,19,5    14,10,10   18,9,14\n",
        "#index of 7,19,6 row is 2 and of 18,9,14 is 6 but we will write [2:6] to print rows and [2:5] to print columns."
      ],
      "metadata": {
        "id": "lc6upGYze6HD"
      },
      "execution_count": null,
      "outputs": []
    },
    {
      "cell_type": "code",
      "source": [
        "arr[2:6,2:5]"
      ],
      "metadata": {
        "colab": {
          "base_uri": "https://localhost:8080/"
        },
        "id": "6A4tXjBFfceA",
        "outputId": "78ed66c8-a9bc-415b-938d-1bc302ec0a27"
      },
      "execution_count": null,
      "outputs": [
        {
          "output_type": "execute_result",
          "data": {
            "text/plain": [
              "array([[ 7, 19,  6],\n",
              "       [15, 19,  5],\n",
              "       [14, 10, 10],\n",
              "       [18,  9, 14]])"
            ]
          },
          "metadata": {},
          "execution_count": 40
        }
      ]
    },
    {
      "cell_type": "code",
      "source": [
        "# i want single 19\n",
        "arr[3:4,3:4]"
      ],
      "metadata": {
        "colab": {
          "base_uri": "https://localhost:8080/"
        },
        "id": "z477ja8RfhDO",
        "outputId": "d9a5b063-ac58-4ea0-d2fa-7257fda36127"
      },
      "execution_count": null,
      "outputs": [
        {
          "output_type": "execute_result",
          "data": {
            "text/plain": [
              "array([[19]])"
            ]
          },
          "metadata": {},
          "execution_count": 41
        }
      ]
    },
    {
      "cell_type": "code",
      "source": [
        "#best practice for single element is [3,3] only row and column\n",
        "arr[3,3]"
      ],
      "metadata": {
        "colab": {
          "base_uri": "https://localhost:8080/"
        },
        "id": "nGc0Pdb1fy3U",
        "outputId": "f0396a3a-f8f0-4050-be62-ff365d22f889"
      },
      "execution_count": null,
      "outputs": [
        {
          "output_type": "execute_result",
          "data": {
            "text/plain": [
              "19"
            ]
          },
          "metadata": {},
          "execution_count": 42
        }
      ]
    },
    {
      "cell_type": "code",
      "source": [
        "# ARRAY FUNCTIONS."
      ],
      "metadata": {
        "id": "meMhLtvkgAh7"
      },
      "execution_count": null,
      "outputs": []
    },
    {
      "cell_type": "code",
      "source": [
        "arr"
      ],
      "metadata": {
        "colab": {
          "base_uri": "https://localhost:8080/"
        },
        "id": "uJcycwbcgINP",
        "outputId": "5593983b-106a-4309-ff73-7ac0ad954dce"
      },
      "execution_count": null,
      "outputs": [
        {
          "output_type": "execute_result",
          "data": {
            "text/plain": [
              "array([[ 6, 12, 13,  9, 10, 12],\n",
              "       [ 6, 16,  1, 17,  2, 13],\n",
              "       [ 8, 14,  7, 19,  6, 19],\n",
              "       [12, 11, 15, 19,  5, 10],\n",
              "       [18,  1, 14, 10, 10,  8],\n",
              "       [ 2,  1, 18,  9, 14, 16],\n",
              "       [11,  9,  8,  4,  7, 18],\n",
              "       [ 4,  5, 18, 12, 13, 17]])"
            ]
          },
          "metadata": {},
          "execution_count": 44
        }
      ]
    },
    {
      "cell_type": "code",
      "source": [
        "print(arr.sum())  # it will take sum of each item. Everything will be added."
      ],
      "metadata": {
        "colab": {
          "base_uri": "https://localhost:8080/"
        },
        "id": "mkpUWC6ygI26",
        "outputId": "e0f27d3a-1611-4720-d2db-e328e4c50961"
      },
      "execution_count": null,
      "outputs": [
        {
          "output_type": "stream",
          "name": "stdout",
          "text": [
            "509\n"
          ]
        }
      ]
    },
    {
      "cell_type": "code",
      "source": [
        "print(arr.sum(axis=0))  #we got sum of each column."
      ],
      "metadata": {
        "colab": {
          "base_uri": "https://localhost:8080/"
        },
        "id": "L0ANm95pgOHf",
        "outputId": "84b220ff-3ed8-420a-f41e-18d03f4b3642"
      },
      "execution_count": null,
      "outputs": [
        {
          "output_type": "stream",
          "name": "stdout",
          "text": [
            "[ 67  69  94  99  67 113]\n"
          ]
        }
      ]
    },
    {
      "cell_type": "code",
      "source": [
        "print(arr.sum(axis=1))  #we got sum of each row.\n"
      ],
      "metadata": {
        "colab": {
          "base_uri": "https://localhost:8080/"
        },
        "id": "O3Ra0c7agb2a",
        "outputId": "f28469df-7aab-439e-afc5-b5baa66a3514"
      },
      "execution_count": null,
      "outputs": [
        {
          "output_type": "stream",
          "name": "stdout",
          "text": [
            "[62 55 73 72 61 60 57 69]\n"
          ]
        }
      ]
    },
    {
      "cell_type": "code",
      "source": [
        "print(arr.mean())\n",
        "print(arr.mean(axis=0)) #column wise mean.\n",
        "print(arr.mean(axis=1))  #row wise mean.\n",
        "\n"
      ],
      "metadata": {
        "colab": {
          "base_uri": "https://localhost:8080/"
        },
        "id": "PebBZjOcggxH",
        "outputId": "b022e16f-7929-4bd9-e94d-a2d30dfea408"
      },
      "execution_count": null,
      "outputs": [
        {
          "output_type": "stream",
          "name": "stdout",
          "text": [
            "10.604166666666666\n",
            "[ 8.375  8.625 11.75  12.375  8.375 14.125]\n",
            "[10.33333333  9.16666667 12.16666667 12.         10.16666667 10.\n",
            "  9.5        11.5       ]\n"
          ]
        }
      ]
    },
    {
      "cell_type": "code",
      "source": [
        "print(arr.max())\n",
        "print(arr.max(axis=0)) #column wise\n",
        "print(arr.max(axis=1)) #row wise\n"
      ],
      "metadata": {
        "colab": {
          "base_uri": "https://localhost:8080/"
        },
        "id": "0U5naA3rg0L1",
        "outputId": "8b171e9c-f5b9-46cc-e097-ecab55c4319f"
      },
      "execution_count": null,
      "outputs": [
        {
          "output_type": "stream",
          "name": "stdout",
          "text": [
            "19\n",
            "[18 16 18 19 14 19]\n",
            "[13 17 19 19 18 18 18 18]\n"
          ]
        }
      ]
    },
    {
      "cell_type": "code",
      "source": [
        "#hence similarly for arr.min() and all."
      ],
      "metadata": {
        "id": "GWNEurwDg_n_"
      },
      "execution_count": null,
      "outputs": []
    },
    {
      "cell_type": "code",
      "source": [
        "print(arr.argmin())   #gives the position of minimum number\n",
        "print(arr.argmin(axis=0)) # column wise\n",
        "print(arr.argmin(axis=1)) #row wise\n"
      ],
      "metadata": {
        "colab": {
          "base_uri": "https://localhost:8080/"
        },
        "id": "MjIJekOfhJAf",
        "outputId": "9cfe14bd-3f88-48bf-d694-535d29375daf"
      },
      "execution_count": null,
      "outputs": [
        {
          "output_type": "stream",
          "name": "stdout",
          "text": [
            "8\n",
            "[5 4 1 6 1 4]\n",
            "[0 2 4 4 1 1 3 0]\n"
          ]
        }
      ]
    },
    {
      "cell_type": "code",
      "source": [
        "print(arr.argmax())   #gives the position of maximum number\n",
        "print(arr.argmax(axis=0)) # column wise\n",
        "print(arr.argmax(axis=1)) #row wise\n"
      ],
      "metadata": {
        "colab": {
          "base_uri": "https://localhost:8080/"
        },
        "id": "UQegGEKYhXaf",
        "outputId": "e32df845-4838-4853-ac14-cde22f98f795"
      },
      "execution_count": null,
      "outputs": [
        {
          "output_type": "stream",
          "name": "stdout",
          "text": [
            "15\n",
            "[4 1 5 2 5 2]\n",
            "[2 3 3 3 0 2 5 2]\n"
          ]
        }
      ]
    },
    {
      "cell_type": "code",
      "source": [
        "## Change shape or dimension of the array.\n",
        "arr.shape\n"
      ],
      "metadata": {
        "colab": {
          "base_uri": "https://localhost:8080/"
        },
        "id": "8wrM225PhlIy",
        "outputId": "fab0a9cc-5ce5-4041-f02b-31941ebdc0e6"
      },
      "execution_count": null,
      "outputs": [
        {
          "output_type": "execute_result",
          "data": {
            "text/plain": [
              "(8, 6)"
            ]
          },
          "metadata": {},
          "execution_count": 53
        }
      ]
    },
    {
      "cell_type": "code",
      "source": [
        "arr.ndim"
      ],
      "metadata": {
        "colab": {
          "base_uri": "https://localhost:8080/"
        },
        "id": "iGSbLkrrh565",
        "outputId": "4ad79a51-985e-422c-c69b-37f05caaf44c"
      },
      "execution_count": null,
      "outputs": [
        {
          "output_type": "execute_result",
          "data": {
            "text/plain": [
              "2"
            ]
          },
          "metadata": {},
          "execution_count": 54
        }
      ]
    },
    {
      "cell_type": "code",
      "source": [
        "arr_1=arr.reshape(48)\n",
        "arr_1"
      ],
      "metadata": {
        "colab": {
          "base_uri": "https://localhost:8080/"
        },
        "id": "tEGPVP-SiAqh",
        "outputId": "d7c07b32-cc0f-4c2b-a0b6-48f7f4a01532"
      },
      "execution_count": null,
      "outputs": [
        {
          "output_type": "execute_result",
          "data": {
            "text/plain": [
              "array([ 6, 12, 13,  9, 10, 12,  6, 16,  1, 17,  2, 13,  8, 14,  7, 19,  6,\n",
              "       19, 12, 11, 15, 19,  5, 10, 18,  1, 14, 10, 10,  8,  2,  1, 18,  9,\n",
              "       14, 16, 11,  9,  8,  4,  7, 18,  4,  5, 18, 12, 13, 17])"
            ]
          },
          "metadata": {},
          "execution_count": 55
        }
      ]
    },
    {
      "cell_type": "code",
      "source": [
        "arr_2=arr.reshape(6,8)\n",
        "arr_3=arr.reshape(2,24)\n",
        "arr_2"
      ],
      "metadata": {
        "colab": {
          "base_uri": "https://localhost:8080/"
        },
        "id": "mWtyoX6EiLgJ",
        "outputId": "cc006afe-afe5-461b-e197-758329079524"
      },
      "execution_count": null,
      "outputs": [
        {
          "output_type": "execute_result",
          "data": {
            "text/plain": [
              "array([[ 6, 12, 13,  9, 10, 12,  6, 16],\n",
              "       [ 1, 17,  2, 13,  8, 14,  7, 19],\n",
              "       [ 6, 19, 12, 11, 15, 19,  5, 10],\n",
              "       [18,  1, 14, 10, 10,  8,  2,  1],\n",
              "       [18,  9, 14, 16, 11,  9,  8,  4],\n",
              "       [ 7, 18,  4,  5, 18, 12, 13, 17]])"
            ]
          },
          "metadata": {},
          "execution_count": 56
        }
      ]
    },
    {
      "cell_type": "code",
      "source": [
        "arr_3"
      ],
      "metadata": {
        "colab": {
          "base_uri": "https://localhost:8080/"
        },
        "id": "wByf0SQPiZYv",
        "outputId": "43e006c8-1443-4d6e-978e-8b93f428ba04"
      },
      "execution_count": null,
      "outputs": [
        {
          "output_type": "execute_result",
          "data": {
            "text/plain": [
              "array([[ 6, 12, 13,  9, 10, 12,  6, 16,  1, 17,  2, 13,  8, 14,  7, 19,\n",
              "         6, 19, 12, 11, 15, 19,  5, 10],\n",
              "       [18,  1, 14, 10, 10,  8,  2,  1, 18,  9, 14, 16, 11,  9,  8,  4,\n",
              "         7, 18,  4,  5, 18, 12, 13, 17]])"
            ]
          },
          "metadata": {},
          "execution_count": 57
        }
      ]
    },
    {
      "cell_type": "code",
      "source": [
        "arr_4=arr.reshape(3,2,8)\n",
        "arr_4"
      ],
      "metadata": {
        "colab": {
          "base_uri": "https://localhost:8080/"
        },
        "id": "0CvHuI1Yicqh",
        "outputId": "6560e92a-046a-48d7-8032-f1a6344169ae"
      },
      "execution_count": null,
      "outputs": [
        {
          "output_type": "execute_result",
          "data": {
            "text/plain": [
              "array([[[ 6, 12, 13,  9, 10, 12,  6, 16],\n",
              "        [ 1, 17,  2, 13,  8, 14,  7, 19]],\n",
              "\n",
              "       [[ 6, 19, 12, 11, 15, 19,  5, 10],\n",
              "        [18,  1, 14, 10, 10,  8,  2,  1]],\n",
              "\n",
              "       [[18,  9, 14, 16, 11,  9,  8,  4],\n",
              "        [ 7, 18,  4,  5, 18, 12, 13, 17]]])"
            ]
          },
          "metadata": {},
          "execution_count": 58
        }
      ]
    },
    {
      "cell_type": "code",
      "source": [
        "#you just have to make the combination =48 then you can convert or reshape."
      ],
      "metadata": {
        "id": "rWR6fdUviqhc"
      },
      "execution_count": null,
      "outputs": []
    },
    {
      "cell_type": "code",
      "source": [
        "arr.dtype"
      ],
      "metadata": {
        "colab": {
          "base_uri": "https://localhost:8080/"
        },
        "id": "8QHVtl-yi1vi",
        "outputId": "d7c02428-25a4-4856-c591-8ab386fcf8e4"
      },
      "execution_count": null,
      "outputs": [
        {
          "output_type": "execute_result",
          "data": {
            "text/plain": [
              "dtype('int64')"
            ]
          },
          "metadata": {},
          "execution_count": 60
        }
      ]
    },
    {
      "cell_type": "code",
      "source": [
        "#To convert the data type you have to use:-\n",
        "\n",
        "arr.astype('float32')"
      ],
      "metadata": {
        "colab": {
          "base_uri": "https://localhost:8080/"
        },
        "id": "8oOitrHFjHqP",
        "outputId": "e8f41137-4c36-405b-abb7-2909801795ce"
      },
      "execution_count": null,
      "outputs": [
        {
          "output_type": "execute_result",
          "data": {
            "text/plain": [
              "array([[ 6., 12., 13.,  9., 10., 12.],\n",
              "       [ 6., 16.,  1., 17.,  2., 13.],\n",
              "       [ 8., 14.,  7., 19.,  6., 19.],\n",
              "       [12., 11., 15., 19.,  5., 10.],\n",
              "       [18.,  1., 14., 10., 10.,  8.],\n",
              "       [ 2.,  1., 18.,  9., 14., 16.],\n",
              "       [11.,  9.,  8.,  4.,  7., 18.],\n",
              "       [ 4.,  5., 18., 12., 13., 17.]], dtype=float32)"
            ]
          },
          "metadata": {},
          "execution_count": 61
        }
      ]
    },
    {
      "cell_type": "code",
      "source": [
        "arr.astype('int32')"
      ],
      "metadata": {
        "colab": {
          "base_uri": "https://localhost:8080/"
        },
        "id": "ihjADkV2jPNq",
        "outputId": "0f367b56-3253-4f81-e69c-8f0c80e9bdee"
      },
      "execution_count": null,
      "outputs": [
        {
          "output_type": "execute_result",
          "data": {
            "text/plain": [
              "array([[ 6, 12, 13,  9, 10, 12],\n",
              "       [ 6, 16,  1, 17,  2, 13],\n",
              "       [ 8, 14,  7, 19,  6, 19],\n",
              "       [12, 11, 15, 19,  5, 10],\n",
              "       [18,  1, 14, 10, 10,  8],\n",
              "       [ 2,  1, 18,  9, 14, 16],\n",
              "       [11,  9,  8,  4,  7, 18],\n",
              "       [ 4,  5, 18, 12, 13, 17]], dtype=int32)"
            ]
          },
          "metadata": {},
          "execution_count": 62
        }
      ]
    },
    {
      "cell_type": "code",
      "source": [
        "arr.astype('str')"
      ],
      "metadata": {
        "colab": {
          "base_uri": "https://localhost:8080/"
        },
        "id": "cMbv_miOjSdg",
        "outputId": "00acce96-0db1-4931-bf58-8d6ec576ff63"
      },
      "execution_count": null,
      "outputs": [
        {
          "output_type": "execute_result",
          "data": {
            "text/plain": [
              "array([['6', '12', '13', '9', '10', '12'],\n",
              "       ['6', '16', '1', '17', '2', '13'],\n",
              "       ['8', '14', '7', '19', '6', '19'],\n",
              "       ['12', '11', '15', '19', '5', '10'],\n",
              "       ['18', '1', '14', '10', '10', '8'],\n",
              "       ['2', '1', '18', '9', '14', '16'],\n",
              "       ['11', '9', '8', '4', '7', '18'],\n",
              "       ['4', '5', '18', '12', '13', '17']], dtype='<U21')"
            ]
          },
          "metadata": {},
          "execution_count": 63
        }
      ]
    },
    {
      "cell_type": "code",
      "source": [
        "arr.astype('int64')"
      ],
      "metadata": {
        "colab": {
          "base_uri": "https://localhost:8080/"
        },
        "id": "FfmwTYq2jVD_",
        "outputId": "e82c22f3-0004-4b38-9722-24baa361be32"
      },
      "execution_count": null,
      "outputs": [
        {
          "output_type": "execute_result",
          "data": {
            "text/plain": [
              "array([[ 6, 12, 13,  9, 10, 12],\n",
              "       [ 6, 16,  1, 17,  2, 13],\n",
              "       [ 8, 14,  7, 19,  6, 19],\n",
              "       [12, 11, 15, 19,  5, 10],\n",
              "       [18,  1, 14, 10, 10,  8],\n",
              "       [ 2,  1, 18,  9, 14, 16],\n",
              "       [11,  9,  8,  4,  7, 18],\n",
              "       [ 4,  5, 18, 12, 13, 17]])"
            ]
          },
          "metadata": {},
          "execution_count": 64
        }
      ]
    },
    {
      "cell_type": "code",
      "source": [
        "arr=arr.astype('int64')  #then only it will change datatype"
      ],
      "metadata": {
        "id": "yjIY8FJfj1ol"
      },
      "execution_count": null,
      "outputs": []
    },
    {
      "cell_type": "code",
      "source": [
        "#How to create some standard matrices."
      ],
      "metadata": {
        "id": "5U4uZ6gkjY8a"
      },
      "execution_count": null,
      "outputs": []
    },
    {
      "cell_type": "code",
      "source": [
        "#how to generate zero matrix.\n",
        "np.zeros((5,5),np.uint)   #unit is unsigned integer"
      ],
      "metadata": {
        "colab": {
          "base_uri": "https://localhost:8080/"
        },
        "id": "xvG-cD2QkcAv",
        "outputId": "58f0ebe9-3879-4c59-a4e5-074294275318"
      },
      "execution_count": null,
      "outputs": [
        {
          "output_type": "execute_result",
          "data": {
            "text/plain": [
              "array([[0, 0, 0, 0, 0],\n",
              "       [0, 0, 0, 0, 0],\n",
              "       [0, 0, 0, 0, 0],\n",
              "       [0, 0, 0, 0, 0],\n",
              "       [0, 0, 0, 0, 0]], dtype=uint64)"
            ]
          },
          "metadata": {},
          "execution_count": 67
        }
      ]
    },
    {
      "cell_type": "code",
      "source": [
        "np.ones((5,5),np.uint)"
      ],
      "metadata": {
        "colab": {
          "base_uri": "https://localhost:8080/"
        },
        "id": "VAZ5gLARkxXi",
        "outputId": "95703c77-59e7-4eff-a919-50afbf8b0874"
      },
      "execution_count": null,
      "outputs": [
        {
          "output_type": "execute_result",
          "data": {
            "text/plain": [
              "array([[1, 1, 1, 1, 1],\n",
              "       [1, 1, 1, 1, 1],\n",
              "       [1, 1, 1, 1, 1],\n",
              "       [1, 1, 1, 1, 1],\n",
              "       [1, 1, 1, 1, 1]], dtype=uint64)"
            ]
          },
          "metadata": {},
          "execution_count": 68
        }
      ]
    },
    {
      "cell_type": "code",
      "source": [
        "np.identity((5),np.uint)  #to generate Identity Matrix whose diagonal is 1."
      ],
      "metadata": {
        "colab": {
          "base_uri": "https://localhost:8080/"
        },
        "id": "zLINkjwuk23R",
        "outputId": "c3cea0e6-2f9c-4e6b-a385-6183ff3e735d"
      },
      "execution_count": null,
      "outputs": [
        {
          "output_type": "execute_result",
          "data": {
            "text/plain": [
              "array([[1, 0, 0, 0, 0],\n",
              "       [0, 1, 0, 0, 0],\n",
              "       [0, 0, 1, 0, 0],\n",
              "       [0, 0, 0, 1, 0],\n",
              "       [0, 0, 0, 0, 1]], dtype=uint64)"
            ]
          },
          "metadata": {},
          "execution_count": 69
        }
      ]
    },
    {
      "cell_type": "code",
      "source": [
        "#out of topic\n",
        "import random\n",
        "mystr =\"12345abcde\"\n",
        "length=10\n",
        "random_str = \" jatin\".join(random.sample(mystr, length))\n",
        "random_str"
      ],
      "metadata": {
        "colab": {
          "base_uri": "https://localhost:8080/",
          "height": 36
        },
        "id": "-M5zpXbNk-xj",
        "outputId": "f455b631-a56f-487a-ba8b-95af95c54811"
      },
      "execution_count": null,
      "outputs": [
        {
          "output_type": "execute_result",
          "data": {
            "text/plain": [
              "'c jatin1 jatine jatin2 jatind jatina jatin5 jatin4 jatin3 jatinb'"
            ],
            "application/vnd.google.colaboratory.intrinsic+json": {
              "type": "string"
            }
          },
          "metadata": {},
          "execution_count": 70
        }
      ]
    },
    {
      "cell_type": "code",
      "source": [],
      "metadata": {
        "id": "bPGOJvgJlswM"
      },
      "execution_count": null,
      "outputs": []
    }
  ]
}